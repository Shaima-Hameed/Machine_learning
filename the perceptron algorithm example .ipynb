{
 "cells": [
  {
   "cell_type": "code",
   "execution_count": 6,
   "id": "f61506a3",
   "metadata": {},
   "outputs": [],
   "source": [
    "x_input = [0.1,0.5,0.2]\n",
    "w_weights = [0.4,0.3,0.6]\n",
    "threshold = 0.5 "
   ]
  },
  {
   "cell_type": "code",
   "execution_count": 7,
   "id": "e825ec70",
   "metadata": {},
   "outputs": [],
   "source": [
    "def step(weighted_sum):\n",
    "    if weighted_sum > threshold:\n",
    "        return 1 \n",
    "    else: \n",
    "        return 0"
   ]
  },
  {
   "cell_type": "code",
   "execution_count": 8,
   "id": "7a31515d",
   "metadata": {},
   "outputs": [],
   "source": [
    "def perceptron():\n",
    "    weighted_sum = 0 \n",
    "    for x,w in zip(x_input,w_weights):\n",
    "        weighted_sum += x*w\n",
    "        print(weighted_sum)\n",
    "    return step(weighted_sum)\n",
    "\n"
   ]
  },
  {
   "cell_type": "code",
   "execution_count": 9,
   "id": "8ec2f241",
   "metadata": {},
   "outputs": [
    {
     "name": "stdout",
     "output_type": "stream",
     "text": [
      "0.04000000000000001\n",
      "0.19\n",
      "0.31\n",
      "output 0\n"
     ]
    }
   ],
   "source": [
    "output = perceptron()\n",
    "print(\"output \"+str(output))"
   ]
  },
  {
   "cell_type": "code",
   "execution_count": null,
   "id": "3e74bab5",
   "metadata": {},
   "outputs": [],
   "source": []
  }
 ],
 "metadata": {
  "kernelspec": {
   "display_name": "Python 3 (ipykernel)",
   "language": "python",
   "name": "python3"
  },
  "language_info": {
   "codemirror_mode": {
    "name": "ipython",
    "version": 3
   },
   "file_extension": ".py",
   "mimetype": "text/x-python",
   "name": "python",
   "nbconvert_exporter": "python",
   "pygments_lexer": "ipython3",
   "version": "3.11.4"
  }
 },
 "nbformat": 4,
 "nbformat_minor": 5
}
